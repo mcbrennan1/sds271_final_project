{
 "cells": [
  {
   "cell_type": "code",
   "execution_count": 1,
   "id": "2b96a4c0-8ce5-4690-a576-a9c597ee5e62",
   "metadata": {},
   "outputs": [],
   "source": [
    "# Import packages\n",
    "import numpy as np\n",
    "import matplotlib.pyplot as plt\n",
    "import pandas as pd\n",
    "import seaborn as sns\n",
    "import math\n",
    "import statistics"
   ]
  },
  {
   "cell_type": "code",
   "execution_count": 2,
   "id": "37a32fb1-cae3-4bf5-8e3c-1dcc17cc2102",
   "metadata": {},
   "outputs": [],
   "source": [
    "\"\"\" \n",
    "Player class reads in player stats data and returns different statistics, true shooting percentage, and efficiency of players.\n",
    "\"\"\"\n",
    "class Player():\n",
    "    playerstats = pd.read_csv(\"NBA_Player_Stats.csv\")\n",
    "    league = \"NBA\"\n",
    "    mvp_status = [\"mvp\"]\n",
    "    \"\"\"\n",
    "    Constructor for a player object. Takes in the player's name and season.\n",
    "    \"\"\"\n",
    "    def __init__(self, player, season):\n",
    "        playerstats = pd.read_csv(\"NBA_Player_Stats.csv\")\n",
    "        #player, position, season, fg, fga, fg_percent, tp, tpa, tp_percent, ft, fta, ft_percent, pts\n",
    "        self.player = playerstats.loc[playerstats[\"Player\"] == player].loc[playerstats[\"Year\"] == season][\"Player\"]\n",
    "        self.position = playerstats.loc[playerstats[\"Player\"] == player].loc[playerstats[\"Year\"] == season][\"Pos\"]\n",
    "        self.season = playerstats.loc[playerstats[\"Player\"] == player].loc[playerstats[\"Year\"] == season][\"Year\"]\n",
    "        self.fga = playerstats.loc[playerstats[\"Player\"] == player].loc[playerstats[\"Year\"] == season][\"FGA\"]\n",
    "        self.fg = playerstats.loc[playerstats[\"Player\"] == player].loc[playerstats[\"Year\"] == season][\"FG\"]\n",
    "        self.fg_percent = playerstats.loc[playerstats[\"Player\"] == player].loc[playerstats[\"Year\"] == season][\"FG%\"]\n",
    "        self.tpa = playerstats.loc[playerstats[\"Player\"] == player].loc[playerstats[\"Year\"] == season][\"3PA\"]\n",
    "        self.tp = playerstats.loc[playerstats[\"Player\"] == player].loc[playerstats[\"Year\"] == season][\"3P\"]\n",
    "        self.tp_percent = playerstats.loc[playerstats[\"Player\"] == player].loc[playerstats[\"Year\"] == season][\"3P%\"]\n",
    "        self.fta = playerstats.loc[playerstats[\"Player\"] == player].loc[playerstats[\"Year\"] == season][\"FTA\"]\n",
    "        self.ft = playerstats.loc[playerstats[\"Player\"] == player].loc[playerstats[\"Year\"] == season][\"FT\"]\n",
    "        self.ft_percent = playerstats.loc[playerstats[\"Player\"] == player].loc[playerstats[\"Year\"] == season][\"FT%\"]\n",
    "        self.pts = playerstats.loc[playerstats[\"Player\"] == player].loc[playerstats[\"Year\"] == season][\"PTS\"]\n",
    "        self.ast = playerstats.loc[playerstats[\"Player\"] == player].loc[playerstats[\"Year\"] == season][\"AST\"]\n",
    "        self.tov = playerstats.loc[playerstats[\"Player\"] == player].loc[playerstats[\"Year\"] == season][\"TOV\"]\n",
    "        self.mp = playerstats.loc[playerstats[\"Player\"] == player].loc[playerstats[\"Year\"] == season][\"MP\"]\n",
    "        \n",
    "    \"\"\"\n",
    "    Returns statistics of choice if they exists in the dataset. Else, throws an error.\n",
    "    \"\"\" \n",
    "    def get_statistic(self, statistic):\n",
    "        statistic_noncap = statistic.lower()\n",
    "        if hasattr(self, statistic_noncap) == True:\n",
    "            return round(getattr(self, statistic_noncap).values[0],2)\n",
    "        else:\n",
    "            print( \"Oops! We don't have that statistics. Try again!\" )\n",
    "        \n",
    "    \"\"\" \n",
    "    Calculates and returns true shooting percentage of the player.\n",
    "    \"\"\"\n",
    "    def true_shooting(self):\n",
    "        ts = (self.pts)/(2*(self.fga + (0.44 * self.fta)))\n",
    "        return round(ts.values[0],2)\n",
    "    \n",
    "    \"\"\" \n",
    "    Calculates and returns the efficiency of the player.\n",
    "    \"\"\"\n",
    "    def efficiency(self):\n",
    "        efg = (self.fg + (0.5 * self.tp))/(self.fga)\n",
    "        return round(efg.values[0],2)\n",
    "    \n",
    "    def ast_tov(self):\n",
    "        ast_tov = self.ast/self.tov\n",
    "        return round(ast_tov.values[0],2)\n",
    "    \n",
    "    def per_36_minutes(self, statistic):\n",
    "        statistic_noncap = statistic.lower()\n",
    "        if hasattr(self, statistic_noncap) == True:\n",
    "            return round((((getattr(self, statistic_noncap).values[0])/self.mp)*36).values[0],2)\n",
    "        else:\n",
    "            print( \"Oops! We don't have that statistics. Try again!\")\n",
    "    \n",
    "    # the formula is 100 * TOV / (FGA + 0.44 * FTA + TOV). Turnover percentage is an estimate of turnovers per 100 plays.\n",
    "    def turnover_percentage(self):\n",
    "        turnover = (100*self.tov)/((self.fga + (0.44*self.fta) + self.tov))\n",
    "        return round(turnover.values[0],2)\n",
    "\n",
    "    #TODO: Write 3 stats calculating function and 2 visualization functions (maybe?) that pulls data directly from playerstats.\n",
    "    #We tried to compare 2 players with compare_vis but it's not working, keeping it for reference.\n",
    "    # def compare_vis(self, Player):\n",
    "    #     ## put a check if the data exists for both players in the same season\n",
    "    #     ## create another player object to compare\n",
    "        \n",
    "    #     # new_player = Player(other_player_name, self.season)\n",
    "    #     x = self.fg\n",
    "    #     y = Player.fg\n",
    "    #     plt.plot(x)\n",
    "    #     plt.show()\n"
   ]
  },
  {
   "cell_type": "code",
   "execution_count": 3,
   "id": "def5e4fe",
   "metadata": {},
   "outputs": [
    {
     "ename": "NameError",
     "evalue": "name 'Curry' is not defined",
     "output_type": "error",
     "traceback": [
      "\u001b[0;31m---------------------------------------------------------------------------\u001b[0m",
      "\u001b[0;31mNameError\u001b[0m                                 Traceback (most recent call last)",
      "\u001b[1;32m/Users/phamlethuylinh/Desktop/SDS 271_Final Project/sds271_final_project/player_class.ipynb Cell 3\u001b[0m line \u001b[0;36m1\n\u001b[0;32m----> <a href='vscode-notebook-cell:/Users/phamlethuylinh/Desktop/SDS%20271_Final%20Project/sds271_final_project/player_class.ipynb#X15sZmlsZQ%3D%3D?line=0'>1</a>\u001b[0m Curry\u001b[39m.\u001b[39mturnover_percentage()\n",
      "\u001b[0;31mNameError\u001b[0m: name 'Curry' is not defined"
     ]
    }
   ],
   "source": [
    "Curry.turnover_percentage()"
   ]
  },
  {
   "cell_type": "code",
   "execution_count": 7,
   "id": "7fa15e18",
   "metadata": {},
   "outputs": [
    {
     "data": {
      "text/plain": [
       "'Stephen Curry'"
      ]
     },
     "execution_count": 7,
     "metadata": {},
     "output_type": "execute_result"
    }
   ],
   "source": [
    "Curry.visualization()"
   ]
  },
  {
   "cell_type": "code",
   "execution_count": 4,
   "id": "76a15de0",
   "metadata": {},
   "outputs": [],
   "source": [
    "df = pd.read_csv(\"NBA_Team_Stats.csv\")"
   ]
  },
  {
   "cell_type": "code",
   "execution_count": 5,
   "metadata": {},
   "outputs": [
    {
     "data": {
      "text/html": [
       "<div>\n",
       "<style scoped>\n",
       "    .dataframe tbody tr th:only-of-type {\n",
       "        vertical-align: middle;\n",
       "    }\n",
       "\n",
       "    .dataframe tbody tr th {\n",
       "        vertical-align: top;\n",
       "    }\n",
       "\n",
       "    .dataframe thead th {\n",
       "        text-align: right;\n",
       "    }\n",
       "</style>\n",
       "<table border=\"1\" class=\"dataframe\">\n",
       "  <thead>\n",
       "    <tr style=\"text-align: right;\">\n",
       "      <th></th>\n",
       "      <th>No</th>\n",
       "      <th>Team</th>\n",
       "      <th>G</th>\n",
       "      <th>Min</th>\n",
       "      <th>Pts</th>\n",
       "      <th>Reb</th>\n",
       "      <th>Ast</th>\n",
       "      <th>Stl</th>\n",
       "      <th>Blk</th>\n",
       "      <th>To</th>\n",
       "      <th>...</th>\n",
       "      <th>Oreb</th>\n",
       "      <th>Fgm-a</th>\n",
       "      <th>Pct</th>\n",
       "      <th>3gm-a</th>\n",
       "      <th>Pct.1</th>\n",
       "      <th>Ftm-a</th>\n",
       "      <th>Pct.2</th>\n",
       "      <th>Eff</th>\n",
       "      <th>Deff</th>\n",
       "      <th>Year</th>\n",
       "    </tr>\n",
       "  </thead>\n",
       "  <tbody>\n",
       "    <tr>\n",
       "      <th>0</th>\n",
       "      <td>1</td>\n",
       "      <td>Chicago</td>\n",
       "      <td>103</td>\n",
       "      <td>48.4</td>\n",
       "      <td>96.0</td>\n",
       "      <td>44.1</td>\n",
       "      <td>23.1</td>\n",
       "      <td>8.6</td>\n",
       "      <td>4.3</td>\n",
       "      <td>13.0</td>\n",
       "      <td>...</td>\n",
       "      <td>14.9</td>\n",
       "      <td>36.7-81.7</td>\n",
       "      <td>0.449</td>\n",
       "      <td>3.9-12.0</td>\n",
       "      <td>0.323</td>\n",
       "      <td>18.7-25.2</td>\n",
       "      <td>0.741</td>\n",
       "      <td>111.6</td>\n",
       "      <td>17.5</td>\n",
       "      <td>1997-1998</td>\n",
       "    </tr>\n",
       "    <tr>\n",
       "      <th>1</th>\n",
       "      <td>2</td>\n",
       "      <td>Utah</td>\n",
       "      <td>102</td>\n",
       "      <td>48.3</td>\n",
       "      <td>98.6</td>\n",
       "      <td>40.8</td>\n",
       "      <td>24.7</td>\n",
       "      <td>7.6</td>\n",
       "      <td>4.8</td>\n",
       "      <td>14.7</td>\n",
       "      <td>...</td>\n",
       "      <td>11.3</td>\n",
       "      <td>35.9-74.3</td>\n",
       "      <td>0.483</td>\n",
       "      <td>3.1-8.4</td>\n",
       "      <td>0.368</td>\n",
       "      <td>23.8-30.9</td>\n",
       "      <td>0.768</td>\n",
       "      <td>116.3</td>\n",
       "      <td>17.5</td>\n",
       "      <td>1997-1998</td>\n",
       "    </tr>\n",
       "    <tr>\n",
       "      <th>2</th>\n",
       "      <td>3</td>\n",
       "      <td>Phoenix</td>\n",
       "      <td>86</td>\n",
       "      <td>48.6</td>\n",
       "      <td>99.3</td>\n",
       "      <td>41.9</td>\n",
       "      <td>25.6</td>\n",
       "      <td>9.2</td>\n",
       "      <td>5.3</td>\n",
       "      <td>14.4</td>\n",
       "      <td>...</td>\n",
       "      <td>12.1</td>\n",
       "      <td>38.2-82.0</td>\n",
       "      <td>0.466</td>\n",
       "      <td>5.2-14.7</td>\n",
       "      <td>0.355</td>\n",
       "      <td>17.7-23.6</td>\n",
       "      <td>0.747</td>\n",
       "      <td>117.1</td>\n",
       "      <td>13.6</td>\n",
       "      <td>1997-1998</td>\n",
       "    </tr>\n",
       "    <tr>\n",
       "      <th>3</th>\n",
       "      <td>4</td>\n",
       "      <td>L.A.Lakers</td>\n",
       "      <td>95</td>\n",
       "      <td>48.3</td>\n",
       "      <td>104.8</td>\n",
       "      <td>42.9</td>\n",
       "      <td>24.3</td>\n",
       "      <td>8.7</td>\n",
       "      <td>6.8</td>\n",
       "      <td>14.7</td>\n",
       "      <td>...</td>\n",
       "      <td>13.2</td>\n",
       "      <td>38.0-79.1</td>\n",
       "      <td>0.480</td>\n",
       "      <td>6.1-17.3</td>\n",
       "      <td>0.350</td>\n",
       "      <td>22.8-33.7</td>\n",
       "      <td>0.675</td>\n",
       "      <td>120.8</td>\n",
       "      <td>13.2</td>\n",
       "      <td>1997-1998</td>\n",
       "    </tr>\n",
       "    <tr>\n",
       "      <th>4</th>\n",
       "      <td>5</td>\n",
       "      <td>San Antonio</td>\n",
       "      <td>91</td>\n",
       "      <td>48.4</td>\n",
       "      <td>92.5</td>\n",
       "      <td>44.1</td>\n",
       "      <td>21.9</td>\n",
       "      <td>6.2</td>\n",
       "      <td>6.9</td>\n",
       "      <td>15.3</td>\n",
       "      <td>...</td>\n",
       "      <td>11.9</td>\n",
       "      <td>35.1-75.1</td>\n",
       "      <td>0.468</td>\n",
       "      <td>3.7-10.8</td>\n",
       "      <td>0.344</td>\n",
       "      <td>18.5-26.8</td>\n",
       "      <td>0.688</td>\n",
       "      <td>108.0</td>\n",
       "      <td>13.1</td>\n",
       "      <td>1997-1998</td>\n",
       "    </tr>\n",
       "  </tbody>\n",
       "</table>\n",
       "<p>5 rows × 22 columns</p>\n",
       "</div>"
      ],
      "text/plain": [
       "   No         Team    G   Min    Pts   Reb   Ast  Stl  Blk    To  ...  Oreb  \\\n",
       "0   1      Chicago  103  48.4   96.0  44.1  23.1  8.6  4.3  13.0  ...  14.9   \n",
       "1   2         Utah  102  48.3   98.6  40.8  24.7  7.6  4.8  14.7  ...  11.3   \n",
       "2   3      Phoenix   86  48.6   99.3  41.9  25.6  9.2  5.3  14.4  ...  12.1   \n",
       "3   4   L.A.Lakers   95  48.3  104.8  42.9  24.3  8.7  6.8  14.7  ...  13.2   \n",
       "4   5  San Antonio   91  48.4   92.5  44.1  21.9  6.2  6.9  15.3  ...  11.9   \n",
       "\n",
       "       Fgm-a    Pct     3gm-a  Pct.1      Ftm-a  Pct.2    Eff  Deff       Year  \n",
       "0  36.7-81.7  0.449  3.9-12.0  0.323  18.7-25.2  0.741  111.6  17.5  1997-1998  \n",
       "1  35.9-74.3  0.483   3.1-8.4  0.368  23.8-30.9  0.768  116.3  17.5  1997-1998  \n",
       "2  38.2-82.0  0.466  5.2-14.7  0.355  17.7-23.6  0.747  117.1  13.6  1997-1998  \n",
       "3  38.0-79.1  0.480  6.1-17.3  0.350  22.8-33.7  0.675  120.8  13.2  1997-1998  \n",
       "4  35.1-75.1  0.468  3.7-10.8  0.344  18.5-26.8  0.688  108.0  13.1  1997-1998  \n",
       "\n",
       "[5 rows x 22 columns]"
      ]
     },
     "execution_count": 5,
     "metadata": {},
     "output_type": "execute_result"
    }
   ],
   "source": [
    "df.head()"
   ]
  },
  {
   "cell_type": "code",
   "execution_count": 6,
   "id": "462199ae-bfdf-4bd0-b898-9ea584d1245f",
   "metadata": {},
   "outputs": [],
   "source": [
    "# Test for the functions\n",
    "Curry = Player(player = \"Stephen Curry\", season = \"2015-2016\")"
   ]
  },
  {
   "cell_type": "code",
   "execution_count": null,
   "id": "871372c8",
   "metadata": {},
   "outputs": [],
   "source": [
    "LeBron = Player(player = \"LeBron James\", season = \"2015-2016\")"
   ]
  },
  {
   "cell_type": "code",
   "execution_count": null,
   "id": "e6e4408c",
   "metadata": {},
   "outputs": [
    {
     "data": {
      "text/plain": [
       "2.03"
      ]
     },
     "execution_count": 234,
     "metadata": {},
     "output_type": "execute_result"
    }
   ],
   "source": [
    "Curry.ast_tov()"
   ]
  },
  {
   "cell_type": "code",
   "execution_count": null,
   "id": "12357150-de0b-4927-941e-dbe84d9b9df1",
   "metadata": {},
   "outputs": [
    {
     "data": {
      "text/plain": [
       "5.1"
      ]
     },
     "execution_count": 235,
     "metadata": {},
     "output_type": "execute_result"
    }
   ],
   "source": [
    "Curry.get_statistic(\"FTA\")"
   ]
  },
  {
   "cell_type": "code",
   "execution_count": null,
   "id": "f550b123",
   "metadata": {},
   "outputs": [
    {
     "name": "stdout",
     "output_type": "stream",
     "text": [
      "Oops! We don't have that statistics. Try again!\n"
     ]
    }
   ],
   "source": [
    "Curry.get_statistic(\"HPA\")"
   ]
  },
  {
   "cell_type": "code",
   "execution_count": null,
   "id": "28f116aa-fa02-4593-820d-94c9ae893f02",
   "metadata": {},
   "outputs": [
    {
     "data": {
      "text/plain": [
       "0.67"
      ]
     },
     "execution_count": 237,
     "metadata": {},
     "output_type": "execute_result"
    }
   ],
   "source": [
    "Curry.true_shooting()"
   ]
  },
  {
   "cell_type": "code",
   "execution_count": null,
   "id": "8741a6d1-eada-4c28-8cdb-f8c90490033f",
   "metadata": {},
   "outputs": [
    {
     "data": {
      "text/plain": [
       "0.63"
      ]
     },
     "execution_count": 238,
     "metadata": {},
     "output_type": "execute_result"
    }
   ],
   "source": [
    "Curry.efficiency()"
   ]
  },
  {
   "cell_type": "code",
   "execution_count": null,
   "id": "8f44e230",
   "metadata": {},
   "outputs": [
    {
     "data": {
      "text/plain": [
       "31.68"
      ]
     },
     "execution_count": 239,
     "metadata": {},
     "output_type": "execute_result"
    }
   ],
   "source": [
    "Curry.per_36_minutes(\"PTS\")"
   ]
  }
 ],
 "metadata": {
  "kernelspec": {
   "display_name": "Python 3 (ipykernel)",
   "language": "python",
   "name": "python3"
  },
  "language_info": {
   "codemirror_mode": {
    "name": "ipython",
    "version": 3
   },
   "file_extension": ".py",
   "mimetype": "text/x-python",
   "name": "python",
   "nbconvert_exporter": "python",
   "pygments_lexer": "ipython3",
   "version": "3.11.4"
  }
 },
 "nbformat": 4,
 "nbformat_minor": 5
}
