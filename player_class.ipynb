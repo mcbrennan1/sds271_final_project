{
 "cells": [
  {
   "cell_type": "code",
   "execution_count": 4,
   "id": "2b96a4c0-8ce5-4690-a576-a9c597ee5e62",
   "metadata": {},
   "outputs": [],
   "source": [
    "import numpy as np\n",
    "import matplotlib.pyplot as plt\n",
    "import pandas as pd\n",
    "import seaborn as sns\n",
    "import math\n",
    "import statistics"
   ]
  },
  {
   "cell_type": "code",
   "execution_count": 50,
   "id": "37a32fb1-cae3-4bf5-8e3c-1dcc17cc2102",
   "metadata": {},
   "outputs": [],
   "source": [
    "class Player():\n",
    "    playerstats = pd.read_csv(\"NBA_Player_Stats.csv\")\n",
    "    league = \"NBA\"\n",
    "    mvp_status = [\"mvp\"]\n",
    "    def __init__(self, player, season):\n",
    "        playerstats = pd.read_csv(\"NBA_Player_Stats.csv\")\n",
    "        #player, position, season, fg, fga, fg_percent, tp, tpa, tp_percent, ft, fta, ft_percent, pts\n",
    "        self.player = playerstats.loc[playerstats[\"Player\"] == player].loc[playerstats[\"Year\"] == season][\"Player\"]\n",
    "        self.position = playerstats.loc[playerstats[\"Player\"] == player].loc[playerstats[\"Year\"] == season][\"Pos\"]\n",
    "        self.season = playerstats.loc[playerstats[\"Player\"] == player].loc[playerstats[\"Year\"] == season][\"Year\"]\n",
    "        self.fga = playerstats.loc[playerstats[\"Player\"] == player].loc[playerstats[\"Year\"] == season][\"FGA\"]\n",
    "        self.fg = playerstats.loc[playerstats[\"Player\"] == player].loc[playerstats[\"Year\"] == season][\"FG\"]\n",
    "        self.fg_percent = playerstats.loc[playerstats[\"Player\"] == player].loc[playerstats[\"Year\"] == season][\"FG%\"]\n",
    "        self.tpa = playerstats.loc[playerstats[\"Player\"] == player].loc[playerstats[\"Year\"] == season][\"3PA\"]\n",
    "        self.tp = playerstats.loc[playerstats[\"Player\"] == player].loc[playerstats[\"Year\"] == season][\"3P\"]\n",
    "        self.tp_percent = playerstats.loc[playerstats[\"Player\"] == player].loc[playerstats[\"Year\"] == season][\"3P%\"]\n",
    "        self.fta = playerstats.loc[playerstats[\"Player\"] == player].loc[playerstats[\"Year\"] == season][\"FTA\"]\n",
    "        self.ft = playerstats.loc[playerstats[\"Player\"] == player].loc[playerstats[\"Year\"] == season][\"FT\"]\n",
    "        self.ft_percent = playerstats.loc[playerstats[\"Player\"] == player].loc[playerstats[\"Year\"] == season][\"FT%\"]\n",
    "        self.pts = playerstats.loc[playerstats[\"Player\"] == player].loc[playerstats[\"Year\"] == season][\"PTS\"]"
   ]
  },
  {
   "cell_type": "code",
   "execution_count": 51,
   "id": "462199ae-bfdf-4bd0-b898-9ea584d1245f",
   "metadata": {},
   "outputs": [],
   "source": [
    "Curry = Player(player = \"Stephen Curry\", season = \"2015-2016\")"
   ]
  },
  {
   "cell_type": "code",
   "execution_count": 53,
   "id": "12357150-de0b-4927-941e-dbe84d9b9df1",
   "metadata": {},
   "outputs": [
    {
     "data": {
      "text/plain": [
       "10030    0.908\n",
       "Name: FT%, dtype: float64"
      ]
     },
     "execution_count": 53,
     "metadata": {},
     "output_type": "execute_result"
    }
   ],
   "source": [
    "Curry.ft_percent"
   ]
  }
 ],
 "metadata": {
  "kernelspec": {
   "display_name": "Python 3 (ipykernel)",
   "language": "python",
   "name": "python3"
  },
  "language_info": {
   "codemirror_mode": {
    "name": "ipython",
    "version": 3
   },
   "file_extension": ".py",
   "mimetype": "text/x-python",
   "name": "python",
   "nbconvert_exporter": "python",
   "pygments_lexer": "ipython3",
   "version": "3.8.10"
  }
 },
 "nbformat": 4,
 "nbformat_minor": 5
}
