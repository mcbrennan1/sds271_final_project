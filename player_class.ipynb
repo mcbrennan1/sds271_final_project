{
 "cells": [
  {
   "cell_type": "code",
   "execution_count": 1,
   "id": "2b96a4c0-8ce5-4690-a576-a9c597ee5e62",
   "metadata": {},
   "outputs": [],
   "source": [
    "# Import packages\n",
    "import numpy as np\n",
    "import matplotlib.pyplot as plt\n",
    "import pandas as pd\n",
    "import seaborn as sns\n",
    "import math\n",
    "import statistics"
   ]
  },
  {
   "cell_type": "code",
   "execution_count": 15,
   "id": "37a32fb1-cae3-4bf5-8e3c-1dcc17cc2102",
   "metadata": {},
   "outputs": [],
   "source": [
    "\"\"\" \n",
    "Player class reads in player stats data and returns different statistics, true shooting percentage, and efficiency of players.\n",
    "\"\"\"\n",
    "class Player():\n",
    "    playerstats = pd.read_csv(\"NBA_Player_Stats.csv\")\n",
    "    league = \"NBA\"\n",
    "    mvp_status = [\"mvp\"]\n",
    "    \"\"\"\n",
    "    Constructor for a player object. Takes in the player's name and season.\n",
    "    \"\"\"\n",
    "    def __init__(self, player, season):\n",
    "        playerstats = pd.read_csv(\"NBA_Player_Stats.csv\")\n",
    "        #player, position, season, fg, fga, fg_percent, tp, tpa, tp_percent, ft, fta, ft_percent, pts\n",
    "        self.player = playerstats.loc[playerstats[\"Player\"] == player].loc[playerstats[\"Year\"] == season][\"Player\"]\n",
    "        self.position = playerstats.loc[playerstats[\"Player\"] == player].loc[playerstats[\"Year\"] == season][\"Pos\"]\n",
    "        self.season = playerstats.loc[playerstats[\"Player\"] == player].loc[playerstats[\"Year\"] == season][\"Year\"]\n",
    "        self.fga = playerstats.loc[playerstats[\"Player\"] == player].loc[playerstats[\"Year\"] == season][\"FGA\"]\n",
    "        self.fg = playerstats.loc[playerstats[\"Player\"] == player].loc[playerstats[\"Year\"] == season][\"FG\"]\n",
    "        self.fg_percent = playerstats.loc[playerstats[\"Player\"] == player].loc[playerstats[\"Year\"] == season][\"FG%\"]\n",
    "        self.tpa = playerstats.loc[playerstats[\"Player\"] == player].loc[playerstats[\"Year\"] == season][\"3PA\"]\n",
    "        self.tp = playerstats.loc[playerstats[\"Player\"] == player].loc[playerstats[\"Year\"] == season][\"3P\"]\n",
    "        self.tp_percent = playerstats.loc[playerstats[\"Player\"] == player].loc[playerstats[\"Year\"] == season][\"3P%\"]\n",
    "        self.fta = playerstats.loc[playerstats[\"Player\"] == player].loc[playerstats[\"Year\"] == season][\"FTA\"]\n",
    "        self.ft = playerstats.loc[playerstats[\"Player\"] == player].loc[playerstats[\"Year\"] == season][\"FT\"]\n",
    "        self.ft_percent = playerstats.loc[playerstats[\"Player\"] == player].loc[playerstats[\"Year\"] == season][\"FT%\"]\n",
    "        self.pts = playerstats.loc[playerstats[\"Player\"] == player].loc[playerstats[\"Year\"] == season][\"PTS\"]\n",
    "        \n",
    "    \"\"\"\n",
    "    Returns statistics of choice if they exists in the dataset. Else, throws an error.\n",
    "    \"\"\" \n",
    "    def get_statistic(self, statistic):\n",
    "        statistic_noncap = statistic.lower()\n",
    "        if hasattr(self, statistic_noncap) == True:\n",
    "            return getattr(self, statistic_noncap).values[0]\n",
    "        else:\n",
    "            print( \"Oops! We don't have that statistics. Try again!\" )\n",
    "        \n",
    "    \"\"\" \n",
    "    Calculates and returns true shooting percentage of the player.\n",
    "    \"\"\"\n",
    "    def true_shooting(self):\n",
    "        ts = (self.pts)/(2*(self.fga + (0.44 * self.fta)))\n",
    "        return ts.values[0]\n",
    "    \n",
    "    \"\"\" \n",
    "    Calculates and returns the efficiency of the player.\n",
    "    \"\"\"\n",
    "    def efficiency(self):\n",
    "        efg = (self.fg + (0.5 * self.tp))/(self.fga)\n",
    "        return efg.values[0]\n",
    "    \n",
    "    #TODO: Write 3 stats calculating function and 2 visualization functions (maybe?) that pulls data directly from playerstats.\n",
    "    #We tried to compare 2 players with compare_vis but it's not working, keeping it for reference.\n",
    "    # def compare_vis(self, Player):\n",
    "    #     ## put a check if the data exists for both players in the same season\n",
    "    #     ## create another player object to compare\n",
    "        \n",
    "    #     # new_player = Player(other_player_name, self.season)\n",
    "    #     x = self.fg\n",
    "    #     y = Player.fg\n",
    "    #     plt.plot(x)\n",
    "    #     plt.show()\n"
   ]
  },
  {
   "cell_type": "code",
   "execution_count": 16,
   "id": "76a15de0",
   "metadata": {},
   "outputs": [],
   "source": [
    "df = pd.read_csv(\"NBA_Team_Stats.csv\")"
   ]
  },
  {
   "cell_type": "code",
   "execution_count": 17,
   "id": "84119bd5",
   "metadata": {},
   "outputs": [
    {
     "data": {
      "text/plain": [
       "Index(['No', 'Team', 'G', 'Min', 'Pts', 'Reb', 'Ast', 'Stl', 'Blk', 'To', 'Pf',\n",
       "       'Dreb', 'Oreb', 'Fgm-a', 'Pct', '3gm-a', 'Pct.1', 'Ftm-a', 'Pct.2',\n",
       "       'Eff', 'Deff', 'Year'],\n",
       "      dtype='object')"
      ]
     },
     "execution_count": 17,
     "metadata": {},
     "output_type": "execute_result"
    }
   ],
   "source": [
    "df.columns"
   ]
  },
  {
   "cell_type": "code",
   "execution_count": 18,
   "id": "462199ae-bfdf-4bd0-b898-9ea584d1245f",
   "metadata": {},
   "outputs": [],
   "source": [
    "# Test for the functions\n",
    "Curry = Player(player = \"Stephen Curry\", season = \"2015-2016\")"
   ]
  },
  {
   "cell_type": "code",
   "execution_count": 19,
   "id": "871372c8",
   "metadata": {},
   "outputs": [],
   "source": [
    "LeBron = Player(player = \"LeBron James\", season = \"2015-2016\")"
   ]
  },
  {
   "cell_type": "code",
   "execution_count": 20,
   "id": "e6e4408c",
   "metadata": {},
   "outputs": [
    {
     "data": {
      "image/png": "[encoded data removed]",
      "text/plain": [
       "<Figure size 640x480 with 1 Axes>"
      ]
     },
     "metadata": {},
     "output_type": "display_data"
    }
   ],
   "source": [
    "Curry.compare_vis(LeBron)"
   ]
  },
  {
   "cell_type": "code",
   "execution_count": 14,
   "id": "12357150-de0b-4927-941e-dbe84d9b9df1",
   "metadata": {},
   "outputs": [
    {
     "data": {
      "text/plain": [
       "5.1"
      ]
     },
     "execution_count": 14,
     "metadata": {},
     "output_type": "execute_result"
    }
   ],
   "source": [
    "Curry.get_statistic(\"FTA\")"
   ]
  },
  {
   "cell_type": "code",
   "execution_count": null,
   "id": "f550b123",
   "metadata": {},
   "outputs": [
    {
     "name": "stdout",
     "output_type": "stream",
     "text": [
      "Oops! We don't have that statistics. Try again!\n"
     ]
    }
   ],
   "source": [
    "Curry.get_statistic(\"HPA\")"
   ]
  },
  {
   "cell_type": "code",
   "execution_count": null,
   "id": "28f116aa-fa02-4593-820d-94c9ae893f02",
   "metadata": {},
   "outputs": [
    {
     "data": {
      "text/plain": [
       "0.6705578328283729"
      ]
     },
     "execution_count": 159,
     "metadata": {},
     "output_type": "execute_result"
    }
   ],
   "source": [
    "Curry.true_shooting()"
   ]
  },
  {
   "cell_type": "code",
   "execution_count": null,
   "id": "8741a6d1-eada-4c28-8cdb-f8c90490033f",
   "metadata": {},
   "outputs": [
    {
     "data": {
      "text/plain": [
       "0.6311881188118812"
      ]
     },
     "execution_count": 88,
     "metadata": {},
     "output_type": "execute_result"
    }
   ],
   "source": [
    "Curry.efficiency()"
   ]
  }
 ],
 "metadata": {
  "kernelspec": {
   "display_name": "Python 3 (ipykernel)",
   "language": "python",
   "name": "python3"
  },
  "language_info": {
   "codemirror_mode": {
    "name": "ipython",
    "version": 3
   },
   "file_extension": ".py",
   "mimetype": "text/x-python",
   "name": "python",
   "nbconvert_exporter": "python",
   "pygments_lexer": "ipython3",
   "version": "3.11.4"
  }
 },
 "nbformat": 4,
 "nbformat_minor": 5
}
